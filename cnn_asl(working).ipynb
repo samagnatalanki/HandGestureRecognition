{
 "cells": [
  {
   "cell_type": "code",
   "execution_count": 23,
   "metadata": {
    "colab": {
     "base_uri": "https://localhost:8080/",
     "height": 449
    },
    "colab_type": "code",
    "id": "o1gjyW6M6b0C",
    "outputId": "d88d82c1-6ec7-403e-d26c-88067d31764a"
   },
   "outputs": [],
   "source": [
    "import os\n",
    "#os.chdir(\"gdrive/My Drive/Colab Notebooks/Simple CNN Image Tutorial/\")\n",
    "\n",
    "#os.listdir('gdrive/My Drive/Colab Notebooks/single_prediction')"
   ]
  },
  {
   "cell_type": "code",
   "execution_count": 2,
   "metadata": {},
   "outputs": [],
   "source": [
    "import cv2                 # working with, mainly resizing, images\n",
    "import numpy as np         # dealing with arrays\n",
    "import os                  # dealing with directories\n",
    "from random import shuffle # mixing up or currently ordered data that might lead our network astray in training.\n",
    "from tqdm import tqdm \n",
    "import matplotlib.pyplot as plt\n",
    "from sklearn.preprocessing import LabelEncoder\n",
    "from sklearn.preprocessing import OneHotEncoder"
   ]
  },
  {
   "cell_type": "code",
   "execution_count": 1,
   "metadata": {
    "colab": {
     "base_uri": "https://localhost:8080/",
     "height": 1727
    },
    "colab_type": "code",
    "id": "7zysaRvt7C_y",
    "outputId": "979badb7-f51e-45c2-c544-51cd53289b05"
   },
   "outputs": [
    {
     "name": "stderr",
     "output_type": "stream",
     "text": [
      "100%|██████████| 7500/7500 [01:23<00:00, 89.42it/s] \n",
      "/home/samagna/.local/lib/python2.7/site-packages/sklearn/preprocessing/label.py:151: DeprecationWarning: The truth value of an empty array is ambiguous. Returning False, but in future this will result in an error. Use `array.size > 0` to check that an array is not empty.\n",
      "  if diff:\n"
     ]
    },
    {
     "name": "stdout",
     "output_type": "stream",
     "text": [
      "['A' 'B' 'C' 'D' 'E' 'F' 'G' 'H' 'I' 'J' 'K' 'L' 'M' 'N' 'O' 'P' 'Q' 'S'\n",
      " 'T' 'U' 'V' 'W' 'X' 'Y']\n",
      "['X']\n"
     ]
    }
   ],
   "source": [
    "\n",
    "\n",
    "TRAIN_DIR = 'TrainData'\n",
    "\n",
    "\n",
    "x_data=[]\n",
    "y_data=[]\n",
    "\n",
    "for img in tqdm(os.listdir(TRAIN_DIR)):\n",
    "    #print(img)\n",
    "    path = os.path.join(TRAIN_DIR,img)\n",
    "    image = cv2.imread(path,cv2.IMREAD_GRAYSCALE)\n",
    "    image = cv2.resize(image, (28,28))\n",
    "    x_data.append(image)\n",
    "    y_data.append(img[0])\n",
    "    #print(type(img))\n",
    "    #plt.imshow(img, cmap='Greys')\n",
    "    #print(img)\n",
    "\n",
    "#plt.imshow(x_data[12], cmap='Greys')\n",
    "\n",
    "# integer encode\n",
    "label_encoder = LabelEncoder()\n",
    "integer_encoded = label_encoder.fit_transform(y_data)\n",
    "print(label_encoder.classes_)\n",
    "#print(integer_encoded)\n",
    "# binary encode\n",
    "#onehot_encoder = OneHotEncoder(sparse=False)\n",
    "#integer_encoded = integer_encoded.reshape(len(integer_encoded), 1)\n",
    "#target = onehot_encoder.fit_transform(integer_encoded)\n",
    "target=integer_encoded\n",
    "print(label_encoder.inverse_transform([22]))\n",
    "\n",
    "\n"
   ]
  },
  {
   "cell_type": "code",
   "execution_count": 3,
   "metadata": {},
   "outputs": [
    {
     "name": "stdout",
     "output_type": "stream",
     "text": [
      "24\n"
     ]
    }
   ],
   "source": [
    "output = []\n",
    "for x in target:\n",
    "    if x not in output:\n",
    "        output.append(x)\n",
    "print len(output)"
   ]
  },
  {
   "cell_type": "code",
   "execution_count": 4,
   "metadata": {
    "colab": {},
    "colab_type": "code",
    "id": "iSeUZqU594vO"
   },
   "outputs": [],
   "source": [
    "from sklearn.model_selection import train_test_split\n",
    "x=np.array(x_data)\n",
    "y=np.array(target)\n",
    "\n",
    "X_train, X_test, Y_train, Y_test = train_test_split(x, y, test_size=0.1)\n"
   ]
  },
  {
   "cell_type": "code",
   "execution_count": 5,
   "metadata": {},
   "outputs": [
    {
     "data": {
      "text/plain": [
       "11"
      ]
     },
     "execution_count": 5,
     "metadata": {},
     "output_type": "execute_result"
    },
    {
     "data": {
      "image/png": "[encoded data removed]",
      "text/plain": [
       "<Figure size 432x288 with 1 Axes>"
      ]
     },
     "metadata": {
      "needs_background": "light"
     },
     "output_type": "display_data"
    }
   ],
   "source": [
    "plt.imshow(X_train[200].reshape(28, 28),cmap='Greys')\n",
    "Y_train[200]"
   ]
  },
  {
   "cell_type": "code",
   "execution_count": 6,
   "metadata": {
    "colab": {
     "base_uri": "https://localhost:8080/",
     "height": 71
    },
    "colab_type": "code",
    "id": "4bL66i3cF4S3",
    "outputId": "8847cdaa-7bd7-45c0-fb82-d91c33e5abeb"
   },
   "outputs": [
    {
     "name": "stdout",
     "output_type": "stream",
     "text": [
      "('x_train shape:', (6750, 28, 28, 1))\n",
      "('Number of images in x_train', 6750)\n",
      "('Number of images in x_test', 750)\n"
     ]
    }
   ],
   "source": [
    "X_train = X_train.reshape(X_train.shape[0], 28, 28, 1)\n",
    "X_test = X_test.reshape(X_test.shape[0], 28, 28, 1)\n",
    "input_shape = (28, 28, 1)\n",
    "# Making sure that the values are float so that we can get decimal points after division\n",
    "X_train = X_train.astype('float32')\n",
    "X_test = X_test.astype('float32')\n",
    "# Normalizing the RGB codes by dividing it to the max RGB value.\n",
    "X_train /= 255\n",
    "X_test /= 255\n",
    "print('x_train shape:', X_train.shape)\n",
    "print('Number of images in x_train', X_train.shape[0])\n",
    "print('Number of images in x_test', X_test.shape[0])"
   ]
  },
  {
   "cell_type": "code",
   "execution_count": 7,
   "metadata": {
    "colab": {},
    "colab_type": "code",
    "id": "TtdaDmlEF4ej"
   },
   "outputs": [
    {
     "name": "stderr",
     "output_type": "stream",
     "text": [
      "Using TensorFlow backend.\n"
     ]
    }
   ],
   "source": [
    "# Importing the required Keras modules containing model and layers\n",
    "from keras.models import Sequential\n",
    "from keras.layers import Dense, Conv2D, Dropout, Flatten, MaxPooling2D\n",
    "import tensorflow as tf\n",
    "# Creating a Sequential Model and adding the layers\n",
    "model = Sequential()\n",
    "model.add(Conv2D(28, kernel_size=(3,3), input_shape=input_shape))\n",
    "model.add(MaxPooling2D(pool_size=(2, 2)))\n",
    "model.add(Flatten()) # Flattening the 2D arrays for fully connected layers\n",
    "model.add(Dense(128, activation=tf.nn.relu))\n",
    "model.add(Dropout(0.8))\n",
    "model.add(Dense(24,activation=tf.nn.softmax))"
   ]
  },
  {
   "cell_type": "code",
   "execution_count": 8,
   "metadata": {
    "colab": {
     "base_uri": "https://localhost:8080/",
     "height": 395
    },
    "colab_type": "code",
    "id": "5FMfzXreG90x",
    "outputId": "5068eb35-ddc7-416d-ee6c-4a15cebb12f9"
   },
   "outputs": [
    {
     "name": "stdout",
     "output_type": "stream",
     "text": [
      "Epoch 1/12\n",
      "6750/6750 [==============================] - 6s 860us/step - loss: 1.8070 - acc: 0.4455\n",
      "Epoch 2/12\n",
      "6750/6750 [==============================] - 4s 592us/step - loss: 0.7035 - acc: 0.7665\n",
      "Epoch 3/12\n",
      "6750/6750 [==============================] - 4s 589us/step - loss: 0.4439 - acc: 0.8487\n",
      "Epoch 4/12\n",
      "6750/6750 [==============================] - 4s 597us/step - loss: 0.3414 - acc: 0.8833\n",
      "Epoch 5/12\n",
      "6750/6750 [==============================] - 4s 595us/step - loss: 0.2760 - acc: 0.9009\n",
      "Epoch 6/12\n",
      "6750/6750 [==============================] - 4s 592us/step - loss: 0.2180 - acc: 0.9200\n",
      "Epoch 7/12\n",
      "6750/6750 [==============================] - 4s 628us/step - loss: 0.2140 - acc: 0.9249\n",
      "Epoch 8/12\n",
      "6750/6750 [==============================] - 5s 694us/step - loss: 0.1909 - acc: 0.9339\n",
      "Epoch 9/12\n",
      "6750/6750 [==============================] - 5s 708us/step - loss: 0.1772 - acc: 0.9336\n",
      "Epoch 10/12\n",
      "6750/6750 [==============================] - 4s 618us/step - loss: 0.1712 - acc: 0.9396\n",
      "Epoch 11/12\n",
      "6750/6750 [==============================] - 4s 624us/step - loss: 0.1579 - acc: 0.9440\n",
      "Epoch 12/12\n",
      "6750/6750 [==============================] - 4s 622us/step - loss: 0.1425 - acc: 0.9447\n"
     ]
    },
    {
     "data": {
      "text/plain": [
       "<keras.callbacks.History at 0x7f7f54330210>"
      ]
     },
     "execution_count": 8,
     "metadata": {},
     "output_type": "execute_result"
    }
   ],
   "source": [
    "model.compile(optimizer='adam', \n",
    "              loss='sparse_categorical_crossentropy', \n",
    "              metrics=['accuracy'])\n",
    "model.fit(x=X_train,y=Y_train, epochs=12)"
   ]
  },
  {
   "cell_type": "code",
   "execution_count": 9,
   "metadata": {
    "colab": {
     "base_uri": "https://localhost:8080/",
     "height": 53
    },
    "colab_type": "code",
    "id": "YXPuEJPkH0uE",
    "outputId": "96ad65aa-8e4f-4dce-e958-35d7211189bd"
   },
   "outputs": [
    {
     "name": "stdout",
     "output_type": "stream",
     "text": [
      "750/750 [==============================] - 0s 311us/step\n"
     ]
    },
    {
     "data": {
      "text/plain": [
       "[0.007349594849084194, 0.9986666666666667]"
      ]
     },
     "execution_count": 9,
     "metadata": {},
     "output_type": "execute_result"
    }
   ],
   "source": [
    "model.evaluate(X_test, Y_test)"
   ]
  },
  {
   "cell_type": "code",
   "execution_count": 1,
   "metadata": {},
   "outputs": [
    {
     "name": "stderr",
     "output_type": "stream",
     "text": [
      "Using TensorFlow backend.\n"
     ]
    },
    {
     "ename": "NameError",
     "evalue": "name 'model' is not defined",
     "output_type": "error",
     "traceback": [
      "\u001b[0;31m---------------------------------------------------------------------------\u001b[0m",
      "\u001b[0;31mNameError\u001b[0m                                 Traceback (most recent call last)",
      "\u001b[0;32m<ipython-input-1-e6c5048196c1>\u001b[0m in \u001b[0;36m<module>\u001b[0;34m()\u001b[0m\n\u001b[1;32m      1\u001b[0m \u001b[0;32mfrom\u001b[0m \u001b[0mkeras\u001b[0m\u001b[0;34m.\u001b[0m\u001b[0mmodels\u001b[0m \u001b[0;32mimport\u001b[0m \u001b[0mload_model\u001b[0m\u001b[0;34m\u001b[0m\u001b[0m\n\u001b[1;32m      2\u001b[0m \u001b[0;34m\u001b[0m\u001b[0m\n\u001b[0;32m----> 3\u001b[0;31m \u001b[0mmodel\u001b[0m\u001b[0;34m.\u001b[0m\u001b[0msave\u001b[0m\u001b[0;34m(\u001b[0m\u001b[0;34m'sam_model.h5'\u001b[0m\u001b[0;34m)\u001b[0m\u001b[0;34m\u001b[0m\u001b[0m\n\u001b[0m",
      "\u001b[0;31mNameError\u001b[0m: name 'model' is not defined"
     ]
    }
   ],
   "source": [
    "from keras.models import load_model\n",
    "\n",
    "model.save('sam_model.h5') "
   ]
  },
  {
   "cell_type": "code",
   "execution_count": 1,
   "metadata": {},
   "outputs": [
    {
     "name": "stderr",
     "output_type": "stream",
     "text": [
      "Using TensorFlow backend.\n"
     ]
    }
   ],
   "source": [
    "from keras.models import load_model\n",
    "model = load_model('sam_model.h5')"
   ]
  },
  {
   "cell_type": "code",
   "execution_count": 6,
   "metadata": {
    "colab": {
     "base_uri": "https://localhost:8080/",
     "height": 365
    },
    "colab_type": "code",
    "id": "d3nQvH9tH-0s",
    "outputId": "b69f99ba-0bb7-4030-f4d6-8a65617ce073"
   },
   "outputs": [
    {
     "ename": "NameError",
     "evalue": "name 'X_test' is not defined",
     "output_type": "error",
     "traceback": [
      "\u001b[0;31m---------------------------------------------------------------------------\u001b[0m",
      "\u001b[0;31mNameError\u001b[0m                                 Traceback (most recent call last)",
      "\u001b[0;32m<ipython-input-6-9a0509e35c70>\u001b[0m in \u001b[0;36m<module>\u001b[0;34m()\u001b[0m\n\u001b[1;32m      1\u001b[0m \u001b[0mimage_index\u001b[0m \u001b[0;34m=\u001b[0m \u001b[0;36m6\u001b[0m\u001b[0;34m\u001b[0m\u001b[0m\n\u001b[0;32m----> 2\u001b[0;31m \u001b[0mplt\u001b[0m\u001b[0;34m.\u001b[0m\u001b[0mimshow\u001b[0m\u001b[0;34m(\u001b[0m\u001b[0mX_test\u001b[0m\u001b[0;34m[\u001b[0m\u001b[0mimage_index\u001b[0m\u001b[0;34m]\u001b[0m\u001b[0;34m.\u001b[0m\u001b[0mreshape\u001b[0m\u001b[0;34m(\u001b[0m\u001b[0;36m28\u001b[0m\u001b[0;34m,\u001b[0m \u001b[0;36m28\u001b[0m\u001b[0;34m)\u001b[0m\u001b[0;34m,\u001b[0m\u001b[0mcmap\u001b[0m\u001b[0;34m=\u001b[0m\u001b[0;34m'Greys'\u001b[0m\u001b[0;34m)\u001b[0m\u001b[0;34m\u001b[0m\u001b[0m\n\u001b[0m\u001b[1;32m      3\u001b[0m \u001b[0mpred\u001b[0m \u001b[0;34m=\u001b[0m \u001b[0mmodel\u001b[0m\u001b[0;34m.\u001b[0m\u001b[0mpredict\u001b[0m\u001b[0;34m(\u001b[0m\u001b[0mX_test\u001b[0m\u001b[0;34m[\u001b[0m\u001b[0mimage_index\u001b[0m\u001b[0;34m]\u001b[0m\u001b[0;34m.\u001b[0m\u001b[0mreshape\u001b[0m\u001b[0;34m(\u001b[0m\u001b[0;36m1\u001b[0m\u001b[0;34m,\u001b[0m\u001b[0;36m28\u001b[0m\u001b[0;34m,\u001b[0m \u001b[0;36m28\u001b[0m\u001b[0;34m,\u001b[0m \u001b[0;36m1\u001b[0m\u001b[0;34m)\u001b[0m\u001b[0;34m)\u001b[0m\u001b[0;34m\u001b[0m\u001b[0m\n\u001b[1;32m      4\u001b[0m \u001b[0;32mprint\u001b[0m\u001b[0;34m(\u001b[0m\u001b[0mpred\u001b[0m\u001b[0;34m.\u001b[0m\u001b[0margmax\u001b[0m\u001b[0;34m(\u001b[0m\u001b[0;34m)\u001b[0m\u001b[0;34m)\u001b[0m\u001b[0;34m\u001b[0m\u001b[0m\n",
      "\u001b[0;31mNameError\u001b[0m: name 'X_test' is not defined"
     ]
    }
   ],
   "source": [
    "image_index = 6\n",
    "plt.imshow(X_test[image_index].reshape(28, 28),cmap='Greys')\n",
    "pred = model.predict(X_test[image_index].reshape(1,28, 28, 1))\n",
    "print(pred.argmax())"
   ]
  },
  {
   "cell_type": "code",
   "execution_count": 3,
   "metadata": {
    "colab": {},
    "colab_type": "code",
    "id": "ufCS-S0orH5v"
   },
   "outputs": [
    {
     "name": "stderr",
     "output_type": "stream",
     "text": [
      "100%|██████████| 1/1 [00:00<00:00,  2.02it/s]\n"
     ]
    },
    {
     "data": {
      "image/png": "[encoded data removed]",
      "text/plain": [
       "<Figure size 432x288 with 1 Axes>"
      ]
     },
     "metadata": {
      "needs_background": "light"
     },
     "output_type": "display_data"
    }
   ],
   "source": [
    "import matplotlib.image as mimage\n",
    "TEST_DIR='TestData'\n",
    "for img in tqdm(os.listdir(TEST_DIR)):\n",
    "    #print(img)\n",
    "    path = os.path.join(TEST_DIR,img)\n",
    "    image = cv2.imread(path,cv2.IMREAD_GRAYSCALE)\n",
    "    #image=cv2.flip(image,1)\n",
    "    image = cv2.bitwise_not(image)\n",
    "    image = cv2.resize(image, (28,28))\n",
    "    plt.imshow(image, cmap='Greys')\n",
    "    "
   ]
  },
  {
   "cell_type": "code",
   "execution_count": 4,
   "metadata": {
    "colab": {},
    "colab_type": "code",
    "id": "XEBRu63WruUg"
   },
   "outputs": [
    {
     "name": "stdout",
     "output_type": "stream",
     "text": [
      "17\n"
     ]
    }
   ],
   "source": [
    "pred = model.predict(image.reshape(1,28, 28, 1))\n",
    "print(pred.argmax())"
   ]
  },
  {
   "cell_type": "code",
   "execution_count": 10,
   "metadata": {},
   "outputs": [],
   "source": [
    "alph=['A','B','C','D','E','F','G','H','I','J','K','L','M','N','O','P','Q','S','T','U','V','W','X','Y']"
   ]
  },
  {
   "cell_type": "code",
   "execution_count": 11,
   "metadata": {},
   "outputs": [
    {
     "data": {
      "text/plain": [
       "'C'"
      ]
     },
     "execution_count": 11,
     "metadata": {},
     "output_type": "execute_result"
    }
   ],
   "source": [
    "alph[pred.argmax()]"
   ]
  },
  {
   "cell_type": "code",
   "execution_count": 12,
   "metadata": {},
   "outputs": [
    {
     "name": "stdout",
     "output_type": "stream",
     "text": [
      "2\n",
      "3\n",
      "2\n",
      "20\n",
      "2\n",
      "3\n",
      "2\n",
      "3\n",
      "2\n",
      "3\n",
      "2\n",
      "13\n",
      "0\n",
      "3\n",
      "12\n",
      "10\n",
      "6\n",
      "1\n",
      "3\n",
      "2\n",
      "6\n",
      "2\n",
      "10\n",
      "2\n",
      "15\n",
      "6\n",
      "20\n",
      "2\n",
      "15\n",
      "2\n",
      "7\n",
      "2\n",
      "20\n",
      "10\n",
      "6\n",
      "10\n",
      "2\n",
      "6\n",
      "2\n",
      "15\n",
      "2\n",
      "10\n",
      "6\n",
      "10\n",
      "2\n",
      "13\n",
      "10\n",
      "15\n",
      "10\n",
      "3\n",
      "10\n",
      "15\n",
      "10\n",
      "15\n",
      "13\n",
      "3\n",
      "15\n",
      "13\n",
      "3\n",
      "10\n",
      "15\n",
      "3\n",
      "15\n",
      "13\n",
      "10\n",
      "15\n",
      "10\n",
      "3\n",
      "10\n",
      "6\n",
      "10\n",
      "3\n",
      "10\n",
      "2\n",
      "10\n",
      "2\n",
      "10\n",
      "3\n",
      "10\n",
      "3\n",
      "15\n",
      "10\n",
      "3\n",
      "15\n",
      "3\n",
      "15\n",
      "6\n",
      "15\n",
      "3\n",
      "13\n",
      "15\n",
      "7\n",
      "2\n",
      "10\n",
      "0\n",
      "10\n",
      "2\n",
      "3\n",
      "2\n",
      "0\n",
      "2\n",
      "12\n",
      "2\n",
      "10\n",
      "6\n",
      "2\n",
      "9\n",
      "2\n",
      "8\n",
      "2\n",
      "3\n",
      "15\n",
      "0\n",
      "2\n",
      "15\n",
      "3\n",
      "15\n",
      "2\n",
      "15\n",
      "12\n",
      "2\n",
      "13\n",
      "3\n",
      "2\n",
      "13\n",
      "3\n",
      "12\n",
      "10\n",
      "12\n",
      "15\n",
      "10\n",
      "15\n",
      "10\n",
      "15\n",
      "2\n",
      "3\n",
      "2\n",
      "3\n",
      "7\n",
      "10\n",
      "7\n",
      "2\n",
      "3\n",
      "1\n",
      "7\n",
      "3\n",
      "11\n",
      "7\n",
      "2\n",
      "7\n",
      "11\n",
      "7\n",
      "0\n",
      "7\n",
      "11\n",
      "7\n",
      "2\n",
      "7\n",
      "3\n",
      "13\n",
      "2\n",
      "3\n",
      "2\n",
      "3\n",
      "2\n",
      "15\n",
      "2\n",
      "6\n",
      "15\n",
      "12\n",
      "3\n",
      "12\n",
      "15\n",
      "3\n",
      "10\n",
      "15\n",
      "3\n",
      "15\n",
      "3\n",
      "10\n",
      "3\n",
      "15\n",
      "3\n",
      "10\n",
      "0\n",
      "15\n",
      "3\n",
      "15\n",
      "3\n",
      "15\n",
      "10\n",
      "15\n",
      "10\n",
      "15\n",
      "10\n",
      "15\n",
      "10\n",
      "15\n",
      "10\n",
      "15\n",
      "10\n",
      "15\n",
      "10\n",
      "15\n",
      "10\n",
      "15\n",
      "10\n",
      "3\n",
      "15\n",
      "2\n",
      "13\n",
      "2\n",
      "13\n",
      "2\n",
      "13\n",
      "2\n",
      "15\n",
      "3\n",
      "2\n",
      "8\n",
      "2\n",
      "15\n",
      "2\n",
      "11\n",
      "2\n",
      "3\n",
      "13\n",
      "3\n",
      "14\n",
      "13\n",
      "2\n",
      "13\n",
      "2\n",
      "11\n",
      "7\n",
      "2\n",
      "0\n",
      "2\n",
      "11\n",
      "2\n",
      "13\n",
      "3\n",
      "10\n",
      "15\n",
      "10\n",
      "15\n",
      "13\n",
      "2\n",
      "15\n",
      "6\n",
      "2\n",
      "6\n",
      "15\n",
      "10\n",
      "15\n",
      "13\n",
      "15\n",
      "10\n",
      "15\n",
      "10\n",
      "15\n",
      "10\n",
      "6\n",
      "13\n",
      "6\n",
      "2\n",
      "6\n",
      "15\n",
      "6\n",
      "15\n",
      "6\n",
      "3\n",
      "2\n",
      "3\n",
      "2\n",
      "3\n",
      "2\n"
     ]
    }
   ],
   "source": [
    "import numpy as np\n",
    "import cv2\n",
    "#import util as ut\n",
    "\n",
    "cap = cv2.VideoCapture(0)\n",
    "o=-1\n",
    "while(cap.isOpened()):\n",
    "    # Capture frame-by-frame\n",
    "    ret, img = cap.read() \n",
    "\n",
    "    #print(frame.rows)\n",
    "\n",
    "    # Our operations on the frame come here\n",
    "    #gray = cv2.cvtColor(frame, cv2.COLOR_BGR2GRAY)\n",
    "    img=cv2.flip(img,1)\n",
    "    img = cv2.rectangle(img,(400,100),(620,300),(0,255,0),3) #top left coordinates, bottom right coordinates, aestetics \n",
    "    img1=img[100:300,400:620]\n",
    "    #img1=img\n",
    "    img_ycrcb = cv2.cvtColor(img1, cv2.COLOR_BGR2YCR_CB)\n",
    "    blur = cv2.GaussianBlur(img_ycrcb,(11,11),0)\n",
    "    skin_ycrcb_min = np.array((0, 138, 67))\n",
    "    skin_ycrcb_max = np.array((255, 173, 133))\n",
    "    mask = cv2.inRange(blur, skin_ycrcb_min, skin_ycrcb_max)  # detecting the hand in the bounding box using skin detection\n",
    "    resultBGR = cv2.bitwise_and(img1, img1, mask = mask)\n",
    "\n",
    "    toPredict =  cv2.resize(resultBGR, (28,28))\n",
    "    toPredict = cv2.cvtColor(toPredict,cv2.COLOR_BGR2GRAY)\n",
    "    #print(toPredict.shape)\n",
    "    \n",
    "    \n",
    "    contours,hierarchy = cv2.findContours(mask.copy(),cv2.RETR_EXTERNAL, 2)\n",
    "    #cnt=ut.getMaxContour(contours,4000)\n",
    "    \t\n",
    "        \n",
    "    font                   = cv2.FONT_HERSHEY_SIMPLEX\n",
    "    bottomLeftCornerOfText = (100,400)\n",
    "    fontScale              = 1\n",
    "    fontColor              = (255,255,255)\n",
    "    lineType               = 2\n",
    "\n",
    "    \n",
    "    \n",
    "    \n",
    "    if cv2.waitKey(1) & 0xFF == ord('q'):\n",
    "        break\n",
    "    \n",
    "    pred = model.predict(toPredict.reshape(1,28, 28, 1))\n",
    "    #print(pred.argmax())\n",
    "    \n",
    "    prev_o=o\n",
    "    o=pred.argmax()\n",
    "    \n",
    "    if(o!=prev_o):\n",
    "        print(o)\n",
    "    \n",
    "    letter=alph[o]\n",
    "        \n",
    "    cv2.putText(img,letter,bottomLeftCornerOfText,font,fontScale,fontColor,lineType)\n",
    "\n",
    "    cv2.imshow('img',img)\n",
    "    cv2.imwrite(\"out.jpg\", img)\n",
    "\n",
    "# When everything done, release the capture\n",
    "cap.release()\n",
    "cv2.destroyAllWindows()"
   ]
  },
  {
   "cell_type": "code",
   "execution_count": null,
   "metadata": {
    "colab": {},
    "colab_type": "code",
    "id": "TnLqUBWpr9FW"
   },
   "outputs": [],
   "source": [
    "''' 1.train on colour\n",
    "    2.higher dimension\n",
    "    3.Model more complex\n",
    "    4.5 frame output\n",
    "'''"
   ]
  },
  {
   "cell_type": "code",
   "execution_count": null,
   "metadata": {
    "colab": {},
    "colab_type": "code",
    "id": "FrhLzLlPsHII"
   },
   "outputs": [],
   "source": []
  },
  {
   "cell_type": "code",
   "execution_count": 0,
   "metadata": {
    "colab": {},
    "colab_type": "code",
    "id": "zUgoB7N_sJAl"
   },
   "outputs": [],
   "source": []
  },
  {
   "cell_type": "code",
   "execution_count": 0,
   "metadata": {
    "colab": {},
    "colab_type": "code",
    "id": "BPWzU0f4sJPE"
   },
   "outputs": [],
   "source": []
  },
  {
   "cell_type": "code",
   "execution_count": 0,
   "metadata": {
    "colab": {},
    "colab_type": "code",
    "id": "BpbQ82kxsjAD"
   },
   "outputs": [],
   "source": []
  }
 ],
 "metadata": {
  "colab": {
   "name": "cnn_asl.ipynb",
   "provenance": [],
   "version": "0.3.2"
  },
  "kernelspec": {
   "display_name": "Python 2",
   "language": "python",
   "name": "python2"
  },
  "language_info": {
   "codemirror_mode": {
    "name": "ipython",
    "version": 2
   },
   "file_extension": ".py",
   "mimetype": "text/x-python",
   "name": "python",
   "nbconvert_exporter": "python",
   "pygments_lexer": "ipython2",
   "version": "2.7.15"
  }
 },
 "nbformat": 4,
 "nbformat_minor": 1
}
